{
 "cells": [
  {
   "cell_type": "code",
   "execution_count": null,
   "metadata": {},
   "outputs": [],
   "source": [
    "# Import Dependencies\n",
    "import pandas as pd\n",
    "import sqlalchemy\n",
    "import datetime as dt\n",
    "from sqlalchemy.ext.automap import automap_base\n",
    "from sqlalchemy.orm import Session\n",
    "from sqlalchemy import create_engine, func\n",
    "from flask import Flask, jsonify"
   ]
  },
  {
   "cell_type": "code",
   "execution_count": null,
   "metadata": {},
   "outputs": [],
   "source": [
    "#Setup Flask\n",
    "app = Flask(__name__)"
   ]
  },
  {
   "cell_type": "code",
   "execution_count": null,
   "metadata": {},
   "outputs": [],
   "source": [
    "# Setup Database\n",
    "\n",
    "# Create engine to hawaii.sqlite\n",
    "engine = create_engine(\"sqlite:///hawaii.sqlite\")\n",
    "\n",
    "# Declare a Base\n",
    "Base = automap_base()\n",
    "\n",
    "# Reflect the database tables\n",
    "Base.prepare(engine, reflect=True)\n",
    "\n",
    "# Create variables for classes\n",
    "Measurement = Base.classes.measurements\n",
    "Station = Base.classes.stations\n",
    "\n",
    "# Create session\n",
    "session = Session(engine)"
   ]
  },
  {
   "cell_type": "code",
   "execution_count": null,
   "metadata": {},
   "outputs": [],
   "source": [
    "#Flask Routes\n",
    "@app.route(\"/\")\n",
    "def welcome():\n",
    "    \"\"\"List all available api routes.\"\"\"\n",
    "    return (\n",
    "        f\"Available Routes:<br/>\"\n",
    "        f\"/api/v1.0/precipitation<br/>\"\n",
    "        f\"/api/v1.0/stations<br/>\"\n",
    "        f\"/api/v1.0/tobs<br/>\"\n",
    "        f\"/api/v1.0/<start<br/>\"\n",
    "        f\"/api/v1.0/<start>/<end>\"\n",
    "    )"
   ]
  },
  {
   "cell_type": "code",
   "execution_count": null,
   "metadata": {},
   "outputs": [],
   "source": [
    "@app.route(\"/\")\n",
    "def welcome():\n",
    "    \"\"\"List all available api routes.\"\"\"\n",
    "    return (\n",
    "        f\"Available Routes:<br/>\"\n",
    "        f\"/api/v1.0/precipitation<br/>\"\n",
    "        f\"/api/v1.0/stations<br/>\"\n",
    "        f\"/api/v1.0/tobs<br/>\"\n",
    "        f\"/api/v1.0/<start<br/>\"\n",
    "        f\"/api/v1.0/<start>/<end>\"\n",
    "    )"
   ]
  },
  {
   "cell_type": "code",
   "execution_count": null,
   "metadata": {},
   "outputs": [],
   "source": [
    "@app.route(\"/api/v1.0/stations\")\n",
    "def stations():\n",
    "    \"\"\"Return a list of stations\"\"\"\n",
    "    station_results = session.query(Station.name, Station.station).all()\n",
    "    station_list = []\n",
    "    \n",
    "    for s in station_results:\n",
    "        station_row = {}\n",
    "        station_row[\"name\"] = s.name\n",
    "        station_row[\"station\"] = s.station\n",
    "        station_list.append(station_row)\n",
    "\n",
    "    return jsonify(station_list)\n",
    "     "
   ]
  },
  {
   "cell_type": "code",
   "execution_count": null,
   "metadata": {},
   "outputs": [],
   "source": [
    "@app.route(\"/api/v1.0/tobs\")\n",
    "def tobs():\n",
    "    \"\"\"Return a list of all temperature observations for the previous year\"\"\"\n",
    "    last_year = dt.date(2017, 8, 23) - dt.timedelta(days=365)\n",
    "    tobs_year = session.query(Measurement.date, Measurement.tobs).filter(Measurement.date > last_year\\\n",
    "                                                                        ).order_by(Measurement.date).all()\n",
    "    tobs_list = []\n",
    "    \n",
    "    for t in tobs_year:\n",
    "        tobs_results = {}\n",
    "        tobs_results[\"date\"] = t.date\n",
    "        tobs_results[\"tobs\"] = t.tobs\n",
    "        tobs_list.append(tobs_results)\n",
    "\n",
    "    return jsonify(tobs_list)"
   ]
  },
  {
   "cell_type": "code",
   "execution_count": null,
   "metadata": {},
   "outputs": [],
   "source": [
    "@app.route(\"/api/v1.0/<start>\")\n",
    "def start_date(start):\n",
    "    \"\"\"Return TMIN, TAVG, and TMAX for all dates greater than and equal to start date\"\"\"\n",
    "    start_results = session.query(func.min(Measurement.tobs), func.avg(Measurement.tobs),func.max(Measurement.tobs)\\\n",
    "                                 ).filter(Measurement.date >= start).all()\n",
    "    results_list = []\n",
    "    \n",
    "    for data in start_results:\n",
    "        results_row = {}\n",
    "        results_row[\"TMIN\"] = start_results[0][0]\n",
    "        results_row[\"TAVG\"] = start_results[0][1]\n",
    "        results_row[\"TMAX\"] = start_results[0][2]\n",
    "        results_list.append(results_row)\n",
    "        \n",
    "    return jsonify(results_list)"
   ]
  },
  {
   "cell_type": "code",
   "execution_count": null,
   "metadata": {},
   "outputs": [],
   "source": [
    "@app.route(\"/api/v1.0/<start>/<end>\")\n",
    "def start_end(start, end):\n",
    "    \"\"\"Return TMIN, TAVG, and TMAX for all dates between the start and end date inclusive\"\"\"\n",
    "    start_end_dates = session.query(func.min(Measurement.tobs), func.avg(Measurement.tobs), func.max(Measurement.tobs)\\\n",
    "                                   ).filter((Measurement.date >= start) & (Measurement.date <= end)).all()   \n",
    "    results_list = []\n",
    "    \n",
    "    for data in start_end_dates:\n",
    "        results_row = {}\n",
    "        results_row[\"TMIN\"] = start_end_dates[0][0]\n",
    "        results_row[\"TAVG\"] = start_end_dates[0][1]\n",
    "        results_row[\"TMAX\"] = start_end_dates[0][2]\n",
    "        results_list.append(results_row)\n",
    "        \n",
    "    return jsonify(results_list)"
   ]
  },
  {
   "cell_type": "code",
   "execution_count": null,
   "metadata": {},
   "outputs": [],
   "source": [
    "if __name__ == \"__main__\":\n",
    "    app.run(debug=True)"
   ]
  }
 ],
 "metadata": {
  "kernelspec": {
   "display_name": "Python 3",
   "language": "python",
   "name": "python3"
  },
  "language_info": {
   "codemirror_mode": {
    "name": "ipython",
    "version": 3
   },
   "file_extension": ".py",
   "mimetype": "text/x-python",
   "name": "python",
   "nbconvert_exporter": "python",
   "pygments_lexer": "ipython3",
   "version": "3.6.4"
  }
 },
 "nbformat": 4,
 "nbformat_minor": 2
}
